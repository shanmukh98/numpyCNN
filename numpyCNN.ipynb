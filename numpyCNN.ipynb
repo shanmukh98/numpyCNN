{
 "cells": [
  {
   "cell_type": "code",
   "execution_count": 1,
   "metadata": {},
   "outputs": [],
   "source": [
    "import numpy as np"
   ]
  },
  {
   "cell_type": "code",
   "execution_count": null,
   "metadata": {},
   "outputs": [],
   "source": [
    "def conv2D(w,s,i):\n",
    "    return out\n",
    "def flatten(i):\n",
    "    out = np.zeros((i.shape[0],i.shape[1]*i.shape[2]*i.shape[3]))\n",
    "    for j in range(i.shape[0]):\n",
    "        out[j,:] = i[j,:,:,:].flatten() \n",
    "    return out\n",
    "def Dense(i,w,n,b):\n",
    "    out=np.zeros((i.shape[0],n))\n",
    "    for k in range(i.shape[0]):    \n",
    "        for j in range(n):\n",
    "            out[k,j] = i[k,:].dot(w[j,:]) + b[j]\n",
    "    return out"
   ]
  }
 ],
 "metadata": {
  "kernelspec": {
   "display_name": "Python 3",
   "language": "python",
   "name": "python3"
  },
  "language_info": {
   "codemirror_mode": {
    "name": "ipython",
    "version": 3
   },
   "file_extension": ".py",
   "mimetype": "text/x-python",
   "name": "python",
   "nbconvert_exporter": "python",
   "pygments_lexer": "ipython3",
   "version": "3.6.5"
  }
 },
 "nbformat": 4,
 "nbformat_minor": 2
}
