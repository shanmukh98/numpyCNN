{
 "cells": [
  {
   "cell_type": "code",
   "execution_count": 51,
   "metadata": {},
   "outputs": [],
   "source": [
    "import numpy as np\n",
    "import math"
   ]
  },
  {
   "cell_type": "code",
   "execution_count": 102,
   "metadata": {},
   "outputs": [],
   "source": [
    "def conv2D(w,i,b,s):\n",
    "    sx = (i.shape[1] - w.shape[0]+1)/ s + 1\n",
    "    sx = int(sx)\n",
    "    sy = (i.shape[2] - w.shape[1]+1)/ s + 1\n",
    "    sy = int(sy)\n",
    "    tempi = np.zeros((i.shape[0],i.shape[1]+2,i.shape[2]+2,i.shape[3]))\n",
    "    tempi[:,1:-1,1:-1,:] = i \n",
    "    out = np.zeros((i.shape[0],sx,sy,w.shape[-1]))\n",
    "    for j in range(i.shape[0]):\n",
    "        for k in range(w.shape[-1]):\n",
    "            for l in range(sx):\n",
    "                for m in range(sy):\n",
    "                    out[j,l,m,k] = tempi[j,k*s:k*s+3,l*s:l*s+3:].flatten().dot(w[:,:,:,k].flatten()) + b[k]\n",
    "    return out\n",
    "\n",
    "def flatten(i):\n",
    "    out = np.zeros((i.shape[0],i.shape[1]*i.shape[2]*i.shape[3]))\n",
    "    for j in range(i.shape[0]):\n",
    "        out[j,:] = i[j,:,:,:].flatten() \n",
    "    return out\n",
    "\n",
    "def Dense(i,w,n,b):\n",
    "    out=np.zeros((i.shape[0],n))\n",
    "    for k in range(i.shape[0]):    \n",
    "        for j in range(n):\n",
    "            out[k,j] = i[k,:].dot(w.T[j,:]) + b[j]\n",
    "    return out\n",
    "\n",
    "def activation_relu(i):\n",
    "    for j in range(i.shape[0]):\n",
    "        for k in range(i.shape[1]):\n",
    "            for l in range(i.shape[2]):\n",
    "                for m in range(i.shape[3]):\n",
    "                    if (i[j,k,l,m]<0):\n",
    "                        i[j,k,l,m]=0\n",
    "    return i\n"
   ]
  },
  {
   "cell_type": "code",
   "execution_count": 103,
   "metadata": {},
   "outputs": [],
   "source": [
    "#number of smaple = 10\n",
    "x = np.random.normal(size=(10,32,32,1))\n",
    "w_cnn_1 = np.random.normal(size=(3,3,1,4))\n",
    "b_cnn_1 = np.random.normal(size=(4))\n",
    "w_dense_2 = np.random.normal(size=(1024,10))\n",
    "b_dense_2 = np.random.normal(size=(10))"
   ]
  },
  {
   "cell_type": "code",
   "execution_count": 105,
   "metadata": {},
   "outputs": [
    {
     "name": "stdout",
     "output_type": "stream",
     "text": [
      "[[ -29.4323153   117.43654877  -15.03114908   57.07425149  -52.67364288\n",
      "  -133.15051162   98.78680374   48.75646344 -130.86382207   67.68936446]\n",
      " [  18.87973295   19.09688182   -1.43239767   49.08875509  -31.58454311\n",
      "    12.20021673   41.63653249    8.2858767   -64.60730048   10.80428122]\n",
      " [ -18.32338161    3.70430706   25.85614      78.23770476  -23.05288963\n",
      "   -99.47818343  120.53064376  -91.99559381 -121.11039402   95.78129818]\n",
      " [  29.40701328  -45.12071533   24.29565215   28.41542313  -27.01756871\n",
      "   -30.54306218   52.90137227   39.79701707 -161.11475098  122.20563166]\n",
      " [  59.61740083  -37.32709403  -73.6400123   102.15229369   43.83703017\n",
      "  -190.97671243   55.14530498  -75.887546    -73.01564139   91.47000638]\n",
      " [  33.93761738   -9.22359194  -91.47989498   53.87317411  -36.21332308\n",
      "   -69.17638085  -11.5618935   -31.32909875  -33.00915078   29.44841896]\n",
      " [  65.46725084   50.29829572  -38.74394282   32.13729596  -67.5230278\n",
      "  -190.48516361  113.05139592   16.07293918  -51.87188441   75.79811999]\n",
      " [ -68.71173853    0.4400599     5.71786087   55.00981948  -46.0924735\n",
      "   -54.77124474   40.80927514  -12.68552045  -18.6367038    43.97982614]\n",
      " [  49.58908038   14.43595652  -64.36426174   14.43610763  -65.73762561\n",
      "   -98.18561016   62.28827209   77.57702603 -152.90528542   47.76729458]\n",
      " [ -43.19450691   30.17370336   70.5649217   128.14460528 -102.02095642\n",
      "   -47.50942167   93.58050987  -26.62574222  -84.10692609   31.81923724]]\n"
     ]
    }
   ],
   "source": [
    "# print (conv2D(i=x,w=w,b=b,s=2).shape)\n",
    "xl1 = conv2D(i=x,w=w_cnn_1,b=b_cnn_1,s=2)\n",
    "xl1 = activation_relu(xl1)\n",
    "xl2 = flatten(xl1)\n",
    "out = Dense(i=xl2,w=w_dense_2,b=b_dense_2,n=10)\n",
    "print (out)"
   ]
  },
  {
   "cell_type": "code",
   "execution_count": null,
   "metadata": {},
   "outputs": [],
   "source": []
  }
 ],
 "metadata": {
  "kernelspec": {
   "display_name": "Python 3",
   "language": "python",
   "name": "python3"
  },
  "language_info": {
   "codemirror_mode": {
    "name": "ipython",
    "version": 3
   },
   "file_extension": ".py",
   "mimetype": "text/x-python",
   "name": "python",
   "nbconvert_exporter": "python",
   "pygments_lexer": "ipython3",
   "version": "3.6.5"
  }
 },
 "nbformat": 4,
 "nbformat_minor": 2
}
