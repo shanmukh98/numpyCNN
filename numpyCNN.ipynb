{
 "cells": [
  {
   "cell_type": "code",
   "execution_count": 51,
   "metadata": {},
   "outputs": [],
   "source": [
    "import numpy as np\n",
    "import math"
   ]
  },
  {
   "cell_type": "code",
   "execution_count": 94,
   "metadata": {},
   "outputs": [],
   "source": [
    "def conv2D(w,i,b,s):\n",
    "    sx = (i.shape[1] - w.shape[0]+1)/ s + 1\n",
    "    sx = int(sx)\n",
    "    sy = (i.shape[2] - w.shape[1]+1)/ s + 1\n",
    "    sy = int(sy)\n",
    "    tempi = np.zeros((i.shape[0],i.shape[1]+2,i.shape[2]+2,i.shape[3]))\n",
    "    tempi[:,1:-1,1:-1,:] = i \n",
    "    out = np.zeros((i.shape[0],sx,sy,w.shape[-1]))\n",
    "    for j in range(i.shape[0]):\n",
    "        for k in range(w.shape[-1]):\n",
    "            for l in range(sx):\n",
    "                for m in range(sy):\n",
    "                    out[j,l,m,k] = tempi[j,k*s:k*s+3,l*s:l*s+3:].flatten().dot(w[:,:,:,k].flatten()) + b[k]\n",
    "    return out\n",
    "\n",
    "def flatten(i):\n",
    "    out = np.zeros((i.shape[0],i.shape[1]*i.shape[2]*i.shape[3]))\n",
    "    for j in range(i.shape[0]):\n",
    "        out[j,:] = i[j,:,:,:].flatten() \n",
    "    return out\n",
    "\n",
    "def Dense(i,w,n,b):\n",
    "    out=np.zeros((i.shape[0],n))\n",
    "    for k in range(i.shape[0]):    \n",
    "        for j in range(n):\n",
    "            out[k,j] = i[k,:].dot(w[j,:]) + b[j]\n",
    "    return out\n",
    "\n",
    "def activation_relu(i):\n",
    "    for j in range(i.shape[0]):\n",
    "        for k in range(i.shape[1]):\n",
    "            for l in range(i.shape[2]):\n",
    "                for m in range(i.shape[3]):\n",
    "                    if (i[j,k,l,m]<0):\n",
    "                        i[j,k,l,m]=0\n",
    "    return i\n"
   ]
  },
  {
   "cell_type": "code",
   "execution_count": 95,
   "metadata": {},
   "outputs": [
    {
     "name": "stdout",
     "output_type": "stream",
     "text": [
      "[ 0.11072076  0.95265847 -1.4028857   1.96670452]\n"
     ]
    },
    {
     "data": {
      "text/plain": [
       "array([ 0.95265847, -1.4028857 ,  1.96670452])"
      ]
     },
     "execution_count": 95,
     "metadata": {},
     "output_type": "execute_result"
    }
   ],
   "source": [
    "x = np.random.normal(size=(10,32,32,1))\n",
    "w = np.random.normal(size=(3,3,1,4))\n",
    "b = np.random.normal(size=(4))\n",
    "print (b)\n",
    "b[1:4]"
   ]
  },
  {
   "cell_type": "code",
   "execution_count": 96,
   "metadata": {},
   "outputs": [
    {
     "name": "stdout",
     "output_type": "stream",
     "text": [
      "(10, 16, 16, 4)\n"
     ]
    }
   ],
   "source": [
    "print (conv2D(i=x,w=w,b=b,s=2).shape)"
   ]
  }
 ],
 "metadata": {
  "kernelspec": {
   "display_name": "Python 3",
   "language": "python",
   "name": "python3"
  },
  "language_info": {
   "codemirror_mode": {
    "name": "ipython",
    "version": 3
   },
   "file_extension": ".py",
   "mimetype": "text/x-python",
   "name": "python",
   "nbconvert_exporter": "python",
   "pygments_lexer": "ipython3",
   "version": "3.6.5"
  }
 },
 "nbformat": 4,
 "nbformat_minor": 2
}
